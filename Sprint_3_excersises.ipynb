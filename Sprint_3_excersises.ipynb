{
 "cells": [
  {
   "cell_type": "markdown",
   "metadata": {},
   "source": [
    "# **Clase Práctica: Diccionarios, Funciones y Manejo de Datos en Python**\n",
    "\n",
    "En esta clase, exploraremos conceptos fundamentales de Python mediante ejercicios prácticos. Trabajaremos con diccionarios, crearemos funciones personalizadas, utilizaremos funciones integradas como `count` y `sum`, y aprenderemos a manejar valores duplicados y ausentes.\n",
    "\n",
    "---\n",
    "\n",
    "## **1. Diccionarios**\n",
    "\n",
    "### **Descripción:**\n",
    "Un diccionario es una estructura de datos que almacena pares clave-valor. Se utiliza para acceder rápidamente a datos utilizando una clave.\n",
    "\n",
    "### **Ejercicio 1: Creación y Acceso a Diccionarios**\n",
    "1. Crea un diccionario llamado `estudiantes` que contenga los nombres de los estudiantes como claves y sus calificaciones como valores.\n",
    "2. Accede a la calificación de un estudiante específico.\n",
    "3. Añade un nuevo estudiante al diccionario."
   ]
  },
  {
   "cell_type": "code",
   "execution_count": 25,
   "metadata": {},
   "outputs": [
    {
     "name": "stdout",
     "output_type": "stream",
     "text": [
      "Calificación de Ana: 92\n",
      "Diccionario actualizado: {'Juan': 85, 'Ana': 92, 'Luis': 78, 'Carla': 88}\n"
     ]
    }
   ],
   "source": [
    "# Crear el diccionario\n",
    "estudiantes = {\n",
    "    \"Juan\": 85,\n",
    "    \"Ana\": 92,\n",
    "    \"Luis\": 78\n",
    "}\n",
    "\n",
    "# Accede a la calificación de \"Ana\"\n",
    "print(\"Calificación de Ana:\", estudiantes[\"Ana\"])\n",
    "\n",
    "# Añade un nuevo estudiante\n",
    "estudiantes[\"Carla\"] = 88\n",
    "print(\"Diccionario actualizado:\", estudiantes)\n"
   ]
  },
  {
   "cell_type": "markdown",
   "metadata": {},
   "source": [
    "### **Ejercicio 2: Iterar sobre Diccionarios**\n",
    "1. Itera sobre las claves del diccionario.\n",
    "2. Itera sobre los valores del diccionario.\n",
    "3. Calcula el promedio de las calificaciones."
   ]
  },
  {
   "cell_type": "code",
   "execution_count": 26,
   "metadata": {},
   "outputs": [
    {
     "name": "stdout",
     "output_type": "stream",
     "text": [
      "Estudiante: Juan\n",
      "Estudiante: Ana\n",
      "Estudiante: Luis\n",
      "Estudiante: Carla\n",
      "Calificación: 85\n",
      "Calificación: 92\n",
      "Calificación: 78\n",
      "Calificación: 88\n",
      "Promedio de calificaciones: 85.75\n"
     ]
    }
   ],
   "source": [
    "# Iterar sobre las claves\n",
    "for estudiante in estudiantes.keys():\n",
    "    print(\"Estudiante:\", estudiante)\n",
    "\n",
    "# Iterar sobre los valores\n",
    "for calificacion in estudiantes.values():\n",
    "    print(\"Calificación:\", calificacion)\n",
    "\n",
    "# Calcular el promedio\n",
    "promedio = sum(estudiantes.values()) / len(estudiantes)\n",
    "print(\"Promedio de calificaciones:\", promedio)"
   ]
  },
  {
   "cell_type": "markdown",
   "metadata": {},
   "source": [
    "### **Ejercicio 3: Buscar y Eliminar Elementos**\n",
    "1. Comprueba si \"Luis\" está en el diccionario.\n",
    "2. Elimina a \"Luis\" del diccionario.\n",
    "3. Limpia el diccionario por completo."
   ]
  },
  {
   "cell_type": "code",
   "execution_count": 27,
   "metadata": {},
   "outputs": [
    {
     "name": "stdout",
     "output_type": "stream",
     "text": [
      "Luis está en el diccionario.\n",
      "Diccionario después de eliminar a Luis: {'Juan': 85, 'Ana': 92, 'Carla': 88}\n",
      "Diccionario vacío: {}\n"
     ]
    }
   ],
   "source": [
    "# Comprobar si \"Luis\" está en el diccionario\n",
    "if \"Luis\" in estudiantes:\n",
    "    print(\"Luis está en el diccionario.\")\n",
    "\n",
    "# Eliminar a \"Luis\"\n",
    "estudiantes.pop(\"Luis\", None)\n",
    "print(\"Diccionario después de eliminar a Luis:\", estudiantes)\n",
    "\n",
    "# Limpiar el diccionario\n",
    "estudiantes.clear()\n",
    "print(\"Diccionario vacío:\", estudiantes)"
   ]
  },
  {
   "cell_type": "markdown",
   "metadata": {},
   "source": [
    "---"
   ]
  },
  {
   "cell_type": "markdown",
   "metadata": {},
   "source": [
    "## **2. Funciones**\n",
    "### **Descripción:**\n",
    "Las funciones son bloques de código reutilizables que realizan una tarea específica. Se definen con la palabra clave def.\n",
    "\n",
    "### **Ejercicio 1: Crear una Función**\n",
    "1. Escribe una función llamada calcular_area que calcule el área de un rectángulo.\n",
    "2. Prueba la función con diferentes valores."
   ]
  },
  {
   "cell_type": "code",
   "execution_count": 28,
   "metadata": {},
   "outputs": [
    {
     "name": "stdout",
     "output_type": "stream",
     "text": [
      "Área del rectángulo: 50\n"
     ]
    }
   ],
   "source": [
    "def calcular_area(base, altura):\n",
    "    return base * altura\n",
    "\n",
    "# Prueba la función\n",
    "print(\"Área del rectángulo:\", calcular_area(5, 10))\n"
   ]
  },
  {
   "cell_type": "markdown",
   "metadata": {},
   "source": [
    "### **Ejercicio 2: Función con Argumentos Predeterminados**\n",
    "1. Crea una función saludar que tenga un argumento predeterminado nombre = \"invitado\".\n",
    "2. Llama a la función con y sin un argumento."
   ]
  },
  {
   "cell_type": "code",
   "execution_count": 29,
   "metadata": {},
   "outputs": [
    {
     "name": "stdout",
     "output_type": "stream",
     "text": [
      "Hola, invitado!\n",
      "Hola, Ana!\n"
     ]
    }
   ],
   "source": [
    "def saludar(nombre=\"invitado\"):\n",
    "    return f\"Hola, {nombre}!\"\n",
    "\n",
    "# Prueba la función\n",
    "print(saludar())\n",
    "print(saludar(\"Ana\"))\n"
   ]
  },
  {
   "cell_type": "markdown",
   "metadata": {},
   "source": [
    "### **Ejercicio 3: Función con Parámetros Variables**\n",
    "1. Define una función suma_todos que acepte cualquier cantidad de números y devuelva su suma.\n",
    "2. Prueba la función con diferentes números de argumentos."
   ]
  },
  {
   "cell_type": "code",
   "execution_count": 30,
   "metadata": {},
   "outputs": [
    {
     "name": "stdout",
     "output_type": "stream",
     "text": [
      "Suma de 1, 2 y 3: 6\n",
      "Suma de 5, 10, 15 y 20: 50\n"
     ]
    }
   ],
   "source": [
    "def suma_todos(*numeros):\n",
    "    return sum(numeros)\n",
    "\n",
    "# Prueba la función\n",
    "print(\"Suma de 1, 2 y 3:\", suma_todos(1, 2, 3))\n",
    "print(\"Suma de 5, 10, 15 y 20:\", suma_todos(5, 10, 15, 20))\n"
   ]
  },
  {
   "cell_type": "markdown",
   "metadata": {},
   "source": [
    "---"
   ]
  },
  {
   "cell_type": "markdown",
   "metadata": {},
   "source": [
    "## **3. Funciones Integradas: count y sum**\n",
    "### **Descripción:**\n",
    "Python tiene funciones integradas como count (para contar ocurrencias) y sum (para sumar valores).\n",
    "\n",
    "### **Ejercicio 1: Contar Ocurrencias**\n",
    "1. Dado un string, usa count para contar cuántas veces aparece un carácter específico.\n",
    "2. Aplica count a una lista."
   ]
  },
  {
   "cell_type": "code",
   "execution_count": 31,
   "metadata": {},
   "outputs": [
    {
     "name": "stdout",
     "output_type": "stream",
     "text": [
      "Ocurrencias de 'a': 3\n",
      "Ocurrencias de 1: 3\n"
     ]
    }
   ],
   "source": [
    "texto = \"banana\"\n",
    "print(\"Ocurrencias de 'a':\", texto.count('a'))\n",
    "\n",
    "numeros = [1, 2, 3, 1, 4, 1]\n",
    "print(\"Ocurrencias de 1:\", numeros.count(1))\n"
   ]
  },
  {
   "cell_type": "markdown",
   "metadata": {},
   "source": [
    "### **Ejercicio 2: Sumar Valores**\n",
    "1. Usa sum para calcular la suma de una lista de números.\n",
    "2. Aplica sum con un rango de números."
   ]
  },
  {
   "cell_type": "code",
   "execution_count": 32,
   "metadata": {},
   "outputs": [
    {
     "name": "stdout",
     "output_type": "stream",
     "text": [
      "Suma de la lista: 15\n",
      "Suma del rango 1 a 10: 55\n"
     ]
    }
   ],
   "source": [
    "numeros = [1, 2, 3, 4, 5]\n",
    "print(\"Suma de la lista:\", sum(numeros))\n",
    "\n",
    "print(\"Suma del rango 1 a 10:\", sum(range(1, 11)))\n"
   ]
  },
  {
   "cell_type": "markdown",
   "metadata": {},
   "source": [
    "---"
   ]
  },
  {
   "cell_type": "markdown",
   "metadata": {},
   "source": [
    "# **Manejo de Duplicados y Valores Ausentes en Análisis de Datos**\n",
    "\n",
    "En esta clase aprenderemos a identificar, manejar y procesar datos duplicados y valores ausentes, utilizando las funciones principales de **Pandas** en Python: `duplicated`, `drop_duplicates`, `isnull`, y `fillna`.\n",
    "\n",
    "---\n",
    "\n",
    "## **1. Manejo de Duplicados**\n",
    "\n",
    "### **Descripción**\n",
    "Los valores duplicados en un conjunto de datos pueden sesgar los análisis y deben ser identificados y tratados. Pandas ofrece métodos efectivos para este propósito:\n",
    "\n",
    "- **`duplicated()`**: Identifica filas duplicadas.\n",
    "- **`drop_duplicates()`**: Elimina filas duplicadas.\n",
    "\n",
    "---\n",
    "\n",
    "### **Ejercicio 1: Identificar Valores Duplicados**\n",
    "\n",
    "1. Crea un DataFrame con datos ficticios.\n",
    "2. Usa `duplicated()` para identificar las filas duplicadas.\n",
    "3. Filtra únicamente las filas duplicadas.\n"
   ]
  },
  {
   "cell_type": "code",
   "execution_count": 33,
   "metadata": {},
   "outputs": [
    {
     "name": "stdout",
     "output_type": "stream",
     "text": [
      "¿Es duplicado?\n",
      " 0    False\n",
      "1    False\n",
      "2    False\n",
      "3    False\n",
      "4     True\n",
      "dtype: bool\n",
      "\n",
      "Filas duplicadas:\n",
      "    ID Nombre  Edad\n",
      "4   1    Ana    25\n"
     ]
    }
   ],
   "source": [
    "import pandas as pd\n",
    "\n",
    "# Crear un DataFrame ficticio\n",
    "data = {\n",
    "    \"ID\": [1, 2, 3, 4, 1],\n",
    "    \"Nombre\": [\"Ana\", \"Luis\", \"Juan\", \"Ana\", \"Ana\"],\n",
    "    \"Edad\": [25, 30, 22, 25, 25]\n",
    "}\n",
    "\n",
    "df = pd.DataFrame(data)\n",
    "\n",
    "# Identificar duplicados\n",
    "print(\"¿Es duplicado?\\n\", df.duplicated())\n",
    "\n",
    "# Filtrar filas duplicadas\n",
    "duplicados = df[df.duplicated()]\n",
    "print(\"\\nFilas duplicadas:\\n\", duplicados)\n"
   ]
  },
  {
   "cell_type": "markdown",
   "metadata": {},
   "source": [
    "### **Ejercicio 2: Eliminar Duplicados**\n",
    "1. Usa `drop_duplicates()` para eliminar las filas duplicadas.\n",
    "2. Prueba diferentes configuraciones del método, como mantener la primera o la última aparición."
   ]
  },
  {
   "cell_type": "code",
   "execution_count": 34,
   "metadata": {},
   "outputs": [
    {
     "name": "stdout",
     "output_type": "stream",
     "text": [
      "\n",
      "DataFrame sin duplicados (primera aparición):\n",
      "    ID Nombre  Edad\n",
      "0   1    Ana    25\n",
      "1   2   Luis    30\n",
      "2   3   Juan    22\n",
      "3   4    Ana    25\n",
      "\n",
      "DataFrame sin duplicados (última aparición):\n",
      "    ID Nombre  Edad\n",
      "1   2   Luis    30\n",
      "2   3   Juan    22\n",
      "3   4    Ana    25\n",
      "4   1    Ana    25\n"
     ]
    }
   ],
   "source": [
    "# Eliminar duplicados (manteniendo la primera aparición)\n",
    "df_sin_duplicados = df.drop_duplicates()\n",
    "print(\"\\nDataFrame sin duplicados (primera aparición):\\n\", df_sin_duplicados)\n",
    "\n",
    "# Eliminar duplicados (manteniendo la última aparición)\n",
    "df_sin_duplicados = df.drop_duplicates(keep=\"last\")\n",
    "print(\"\\nDataFrame sin duplicados (última aparición):\\n\", df_sin_duplicados)\n"
   ]
  },
  {
   "cell_type": "markdown",
   "metadata": {},
   "source": [
    "---"
   ]
  },
  {
   "cell_type": "markdown",
   "metadata": {},
   "source": [
    "## **2. Manejo de Valores Ausentes**\n",
    "### **Descripción**\n",
    "Los valores ausentes pueden ocurrir debido a datos incompletos o errores de recolección. Pandas proporciona herramientas para detectarlos y tratarlos:\n",
    "\n",
    "`isnull()`: Identifica valores nulos.\n",
    "`fillna()`: Rellena los valores nulos con un valor específico.\n",
    "\n",
    "### **Ejercicio 1: Identificar Valores Nulos**\n",
    "1. Añade valores nulos a un DataFrame.\n",
    "2. Usa `isnull()` para identificar las celdas nulas.\n",
    "3. Calcula la cantidad total de valores nulos por columna."
   ]
  },
  {
   "cell_type": "code",
   "execution_count": 35,
   "metadata": {},
   "outputs": [
    {
     "name": "stdout",
     "output_type": "stream",
     "text": [
      "\n",
      "Valores nulos:\n",
      "       ID  Nombre   Edad\n",
      "0  False   False  False\n",
      "1  False   False  False\n",
      "2  False    True   True\n",
      "3   True   False  False\n",
      "\n",
      "Cantidad de valores nulos por columna:\n",
      " ID        1\n",
      "Nombre    1\n",
      "Edad      1\n",
      "dtype: int64\n"
     ]
    }
   ],
   "source": [
    "# Crear un DataFrame con valores nulos\n",
    "data = {\n",
    "    \"ID\": [1, 2, 3, None],\n",
    "    \"Nombre\": [\"Ana\", \"Luis\", None, \"Juan\"],\n",
    "    \"Edad\": [25, 30, None, 22]\n",
    "}\n",
    "\n",
    "df = pd.DataFrame(data)\n",
    "\n",
    "# Identificar valores nulos\n",
    "print(\"\\nValores nulos:\\n\", df.isnull())\n",
    "\n",
    "# Contar valores nulos por columna\n",
    "print(\"\\nCantidad de valores nulos por columna:\\n\", df.isnull().sum())"
   ]
  },
  {
   "cell_type": "markdown",
   "metadata": {},
   "source": [
    "### **Ejercicio 2: Rellenar Valores Nulos**\n",
    "1. Usa `fillna()` para rellenar valores nulos con:\n",
    "    - Un valor constante.\n",
    "    - El promedio o mediana de la columna."
   ]
  },
  {
   "cell_type": "code",
   "execution_count": 36,
   "metadata": {},
   "outputs": [
    {
     "name": "stdout",
     "output_type": "stream",
     "text": [
      "\n",
      "DataFrame con valores constantes:\n",
      "             ID       Nombre         Edad\n",
      "0          1.0          Ana         25.0\n",
      "1          2.0         Luis         30.0\n",
      "2          3.0  Desconocido  Desconocido\n",
      "3  Desconocido         Juan         22.0\n",
      "\n",
      "DataFrame con promedio:\n",
      "     ID Nombre       Edad\n",
      "0  1.0    Ana  25.000000\n",
      "1  2.0   Luis  30.000000\n",
      "2  3.0   None  25.666667\n",
      "3  NaN   Juan  22.000000\n"
     ]
    }
   ],
   "source": [
    "# Rellenar valores nulos con un valor constante\n",
    "df_relleno_constante = df.fillna(\"Desconocido\")\n",
    "print(\"\\nDataFrame con valores constantes:\\n\", df_relleno_constante)\n",
    "\n",
    "# Rellenar valores nulos con el promedio\n",
    "df_relleno_promedio = df.fillna({\"Edad\": df[\"Edad\"].mean()})\n",
    "print(\"\\nDataFrame con promedio:\\n\", df_relleno_promedio)"
   ]
  },
  {
   "cell_type": "markdown",
   "metadata": {},
   "source": [
    "### **Ejercicio 3: Eliminar Filas con Valores Nulos**\n",
    "1. Usa `dropna()` para eliminar filas que contengan valores nulos.\n",
    "1. Configura el método para eliminar solo si todos los valores de la fila son nulos."
   ]
  },
  {
   "cell_type": "code",
   "execution_count": 37,
   "metadata": {},
   "outputs": [
    {
     "name": "stdout",
     "output_type": "stream",
     "text": [
      "\n",
      "DataFrame sin valores nulos (cualquier columna):\n",
      "     ID Nombre  Edad\n",
      "0  1.0    Ana  25.0\n",
      "1  2.0   Luis  30.0\n",
      "\n",
      "DataFrame sin valores nulos (todas las columnas):\n",
      "     ID Nombre  Edad\n",
      "0  1.0    Ana  25.0\n",
      "1  2.0   Luis  30.0\n",
      "2  3.0   None   NaN\n",
      "3  NaN   Juan  22.0\n"
     ]
    }
   ],
   "source": [
    "# Eliminar filas con al menos un valor nulo\n",
    "df_sin_nulos = df.dropna()\n",
    "print(\"\\nDataFrame sin valores nulos (cualquier columna):\\n\", df_sin_nulos)\n",
    "\n",
    "# Eliminar filas solo si todos los valores son nulos\n",
    "df_sin_nulos_totales = df.dropna(how=\"all\")\n",
    "print(\"\\nDataFrame sin valores nulos (todas las columnas):\\n\", df_sin_nulos_totales)"
   ]
  },
  {
   "cell_type": "markdown",
   "metadata": {},
   "source": [
    "---"
   ]
  },
  {
   "cell_type": "markdown",
   "metadata": {},
   "source": [
    "## **3. Caso Práctico: Manejo Completo de Duplicados y Nulos**\n",
    "Dado un DataFrame con duplicados y valores nulos:\n",
    "\n",
    "1. Identifica y elimina duplicados.\n",
    "2. Rellena valores nulos con estrategias personalizadas.\n",
    "3. Realiza un análisis final para verificar la limpieza."
   ]
  },
  {
   "cell_type": "code",
   "execution_count": 38,
   "metadata": {},
   "outputs": [
    {
     "name": "stdout",
     "output_type": "stream",
     "text": [
      "\n",
      "Identificar duplicados:\n",
      " 0    False\n",
      "1    False\n",
      "2     True\n",
      "3    False\n",
      "4    False\n",
      "dtype: bool\n",
      "\n",
      "DataFrame sin duplicados:\n",
      "     ID Nombre  Edad  Salario\n",
      "0  1.0    Ana  25.0   3000.0\n",
      "1  2.0   Luis   NaN   4000.0\n",
      "3  4.0   None  22.0      NaN\n",
      "4  NaN   Juan  30.0      NaN\n",
      "\n",
      "DataFrame con valores nulos rellenados:\n",
      "     ID       Nombre       Edad  Salario\n",
      "0  1.0          Ana  25.000000   3000.0\n",
      "1  2.0         Luis  25.666667   4000.0\n",
      "3  4.0  Desconocido  22.000000   3500.0\n",
      "4  NaN         Juan  30.000000   3500.0\n"
     ]
    }
   ],
   "source": [
    "# Crear un DataFrame más complejo\n",
    "data = {\n",
    "    \"ID\": [1, 2, 2, 4, None],\n",
    "    \"Nombre\": [\"Ana\", \"Luis\", \"Luis\", None, \"Juan\"],\n",
    "    \"Edad\": [25, None, None, 22, 30],\n",
    "    \"Salario\": [3000, 4000, 4000, None, None]\n",
    "}\n",
    "\n",
    "df = pd.DataFrame(data)\n",
    "\n",
    "# Identificar duplicados\n",
    "print(\"\\nIdentificar duplicados:\\n\", df.duplicated())\n",
    "\n",
    "# Eliminar duplicados\n",
    "df = df.drop_duplicates()\n",
    "print(\"\\nDataFrame sin duplicados:\\n\", df)\n",
    "\n",
    "# Rellenar valores nulos\n",
    "df = df.fillna({\n",
    "    \"Nombre\": \"Desconocido\",\n",
    "    \"Edad\": df[\"Edad\"].mean(),\n",
    "    \"Salario\": df[\"Salario\"].median()\n",
    "})\n",
    "print(\"\\nDataFrame con valores nulos rellenados:\\n\", df)"
   ]
  }
 ],
 "metadata": {
  "kernelspec": {
   "display_name": "QAGeneral",
   "language": "python",
   "name": "python3"
  },
  "language_info": {
   "codemirror_mode": {
    "name": "ipython",
    "version": 3
   },
   "file_extension": ".py",
   "mimetype": "text/x-python",
   "name": "python",
   "nbconvert_exporter": "python",
   "pygments_lexer": "ipython3",
   "version": "3.12.7"
  }
 },
 "nbformat": 4,
 "nbformat_minor": 2
}
