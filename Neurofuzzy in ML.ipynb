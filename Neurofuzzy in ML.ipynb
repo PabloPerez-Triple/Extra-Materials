{
 "cells": [
  {
   "cell_type": "markdown",
   "id": "ff68c0a5",
   "metadata": {},
   "source": [
    "# Clase: Lógica Neurodifusa enfocada a Machine Learning\n",
    "# Descripción: Introducción y aplicación práctica de sistemas neurodifusos para ML\n",
    "\n",
    "\n",
    "\n",
    "\n"
   ]
  },
  {
   "cell_type": "markdown",
   "id": "3f214132",
   "metadata": {},
   "source": [
    "# Lógica Neurodifusa para Machine Learning\n",
    "\n",
    "La lógica neurodifusa combina redes neuronales artificiales con sistemas de inferencia difusa para crear modelos adaptativos capaces de aprender reglas difusas a partir de datos.\n",
    "\n",
    "**Objetivos:**\n",
    "- Comprender qué es un sistema neurodifuso.\n",
    "- Aprender la estructura de un modelo ANFIS.\n",
    "- Implementar un ejemplo práctico en Python.\n",
    "\n",
    "---"
   ]
  },
  {
   "cell_type": "markdown",
   "id": "1272a6fb",
   "metadata": {},
   "source": [
    "## ¿Qué es la Lógica Difusa?\n",
    "\n",
    "La lógica difusa es una forma de razonamiento que permite trabajar con valores de verdad que no son solo 0 o 1, sino cualquier valor en el intervalo [0, 1]. Es útil para modelar incertidumbre o lenguaje natural (por ejemplo, \"temperatura alta\").\n",
    "\n",
    "**Componentes de un sistema difuso:**\n",
    "- **Fuzzificación:** convierte valores reales a grados de pertenencia.\n",
    "- **Reglas difusas:** del tipo IF-THEN.\n",
    "- **Inferencia difusa:** aplica las reglas a los valores fuzzificados.\n",
    "- **Defuzzificación:** convierte el resultado difuso en una salida numérica concreta.\n",
    "\n",
    "---"
   ]
  },
  {
   "cell_type": "markdown",
   "id": "a30e6e27",
   "metadata": {},
   "source": [
    "## ¿Qué es ANFIS?\n",
    "\n",
    "ANFIS (Adaptive Neuro-Fuzzy Inference System) es un modelo que combina:\n",
    "- La capacidad de aprendizaje de una red neuronal,\n",
    "- Con el sistema de inferencia difusa (tipo Sugeno, comúnmente).\n",
    "\n",
    "**Arquitectura Típica:**\n",
    "1. Capa de Fuzzificación.\n",
    "2. Capa de Reglas.\n",
    "3. Capa de Normalización.\n",
    "4. Capa de Consecuentes.\n",
    "5. Capa de Agregación y Salida.\n",
    "\n",
    "---"
   ]
  },
  {
   "cell_type": "code",
   "execution_count": null,
   "id": "c1493cf8",
   "metadata": {},
   "outputs": [],
   "source": [
    "\n",
    "# =============================\n",
    "# 4. Librerías necesarias\n",
    "# =============================\n",
    "\n",
    "!pip install scikit-fuzzy\n",
    "!pip install git+https://github.com/twmeggs/anfis.git\n"
   ]
  },
  {
   "cell_type": "code",
   "execution_count": null,
   "id": "6a425c16",
   "metadata": {},
   "outputs": [],
   "source": [
    "# =============================\n",
    "# 5. Ejemplo práctico: ANFIS simple\n",
    "# =============================\n",
    "\n",
    "import numpy as np\n",
    "import matplotlib.pyplot as plt\n",
    "import skfuzzy as fuzz\n",
    "from anfis import AnfisNet\n",
    "import torch\n",
    "import torch.nn as nn\n",
    "import torch.optim as optim"
   ]
  },
  {
   "cell_type": "code",
   "execution_count": null,
   "id": "a46917c1",
   "metadata": {},
   "outputs": [],
   "source": [
    "# =============================\n",
    "# 6. Crear datos de entrenamiento\n",
    "# =============================\n",
    "\n",
    "# Entradas simples: x e y\n",
    "x = np.linspace(0, 10, 100)\n",
    "y = np.linspace(0, 10, 100)\n",
    "X, Y = np.meshgrid(x, y)\n",
    "\n",
    "# Función objetivo: salida difusa Z\n",
    "Z = np.sin(X / 2.0) + np.cos(Y / 2.0)\n",
    "\n",
    "# Reorganizar para entrenamiento\n",
    "x_train = np.vstack((X.ravel(), Y.ravel())).T\n",
    "y_train = Z.ravel()\n",
    "\n",
    "# Convertir a tensores\n",
    "x_train_tensor = torch.tensor(x_train, dtype=torch.float32)\n",
    "y_train_tensor = torch.tensor(y_train, dtype=torch.float32).view(-1, 1)\n"
   ]
  },
  {
   "cell_type": "code",
   "execution_count": null,
   "id": "dea3c94e",
   "metadata": {},
   "outputs": [],
   "source": [
    "# =============================\n",
    "# 7. Definir el modelo ANFIS\n",
    "# =============================\n",
    "\n",
    "# Crear un modelo con 2 entradas y 3 reglas\n",
    "model = AnfisNet(n_input=2, n_rules=3)\n",
    "\n",
    "# Optimización\n",
    "criterion = nn.MSELoss()\n",
    "optimizer = optim.Adam(model.parameters(), lr=0.01)"
   ]
  },
  {
   "cell_type": "code",
   "execution_count": null,
   "id": "c6965da3",
   "metadata": {},
   "outputs": [],
   "source": [
    "# =============================\n",
    "# 8. Entrenamiento del modelo\n",
    "# =============================\n",
    "\n",
    "print(\"Entrenando modelo ANFIS...\")\n",
    "\n",
    "for epoch in range(200):\n",
    "    optimizer.zero_grad()\n",
    "    output = model(x_train_tensor)\n",
    "    loss = criterion(output, y_train_tensor)\n",
    "    loss.backward()\n",
    "    optimizer.step()\n",
    "    \n",
    "    if epoch % 20 == 0:\n",
    "        print(f\"Epoch {epoch}, Loss: {loss.item():.4f}\")\n",
    "\n",
    "print(\"Entrenamiento terminado.\")"
   ]
  },
  {
   "cell_type": "markdown",
   "id": "6e6028af",
   "metadata": {},
   "source": [
    "# =============================\n",
    "# 9. Visualizar resultados\n",
    "# =============================\n",
    "\n",
    "# Salida predicha\n",
    "with torch.no_grad():\n",
    "    y_pred = model(x_train_tensor).numpy().reshape(100, 100)\n",
    "\n",
    "fig = plt.figure(figsize=(12, 5))\n",
    "\n",
    "# Real\n",
    "ax1 = fig.add_subplot(1, 2, 1, projection='3d')\n",
    "ax1.plot_surface(X, Y, Z, cmap='viridis')\n",
    "ax1.set_title(\"Función Real\")\n",
    "\n",
    "# Predicción\n",
    "ax2 = fig.add_subplot(1, 2, 2, projection='3d')\n",
    "ax2.plot_surface(X, Y, y_pred, cmap='plasma')\n",
    "ax2.set_title(\"Predicción ANFIS\")\n",
    "\n",
    "plt.show()"
   ]
  },
  {
   "cell_type": "markdown",
   "id": "2305d939",
   "metadata": {},
   "source": [
    "## Conclusión\n",
    "\n",
    "Los sistemas neurodifusos como ANFIS son útiles cuando queremos aprovechar el aprendizaje automático (redes neuronales) y el conocimiento lingüístico (lógica difusa). Son especialmente útiles en sistemas expertos, control borroso, y modelado de relaciones no lineales.\n",
    "\n",
    "---\n",
    "**Próximos pasos:**\n",
    "- Ajustar el número de reglas.\n",
    "- Experimentar con datos reales.\n",
    "- Implementar ANFIS en tareas de clasificación o regresión más complejas."
   ]
  },
  {
   "cell_type": "markdown",
   "id": "04aaf33c",
   "metadata": {},
   "source": [
    "---"
   ]
  },
  {
   "cell_type": "markdown",
   "id": "3e96e05d",
   "metadata": {},
   "source": [
    "## Ejemplo 2"
   ]
  },
  {
   "cell_type": "code",
   "execution_count": null,
   "id": "e4f60ace",
   "metadata": {},
   "outputs": [],
   "source": [
    "# Lógica Neurodifusa Visual (ANFIS)\n",
    "# Tema: Predicción de satisfacción del cliente\n",
    "\n",
    "# =============================\n",
    "# 1. Instalar librerías necesarias\n",
    "# =============================\n",
    "\n",
    "!pip install scikit-fuzzy\n",
    "!pip install git+https://github.com/twmeggs/anfis.git"
   ]
  },
  {
   "cell_type": "code",
   "execution_count": null,
   "id": "db9191aa",
   "metadata": {},
   "outputs": [],
   "source": [
    "# =============================\n",
    "# 2. Importaciones\n",
    "# =============================\n",
    "\n",
    "import numpy as np\n",
    "import matplotlib.pyplot as plt\n",
    "import skfuzzy as fuzz\n",
    "from anfis import AnfisNet\n",
    "import torch\n",
    "import torch.nn as nn\n",
    "import torch.optim as optim\n",
    "from mpl_toolkits.mplot3d import Axes3D\n"
   ]
  },
  {
   "cell_type": "code",
   "execution_count": null,
   "id": "7fd89ef8",
   "metadata": {},
   "outputs": [],
   "source": [
    "# =============================\n",
    "# 3. Visualización de funciones de membresía\n",
    "# =============================\n",
    "\n",
    "x = np.linspace(0, 10, 100)\n",
    "\n",
    "fig, ax = plt.subplots(1, 2, figsize=(12, 4))\n",
    "\n",
    "# Membresía para Comida\n",
    "comida_baja = fuzz.trimf(x, [0, 0, 5])\n",
    "comida_media = fuzz.trimf(x, [2, 5, 8])\n",
    "comida_alta = fuzz.trimf(x, [5, 10, 10])\n",
    "\n",
    "ax[0].plot(x, comida_baja, label='Baja')\n",
    "ax[0].plot(x, comida_media, label='Media')\n",
    "ax[0].plot(x, comida_alta, label='Alta')\n",
    "ax[0].set_title(\"Función de membresía: Comida\")\n",
    "ax[0].legend()\n",
    "\n",
    "# Membresía para Servicio\n",
    "servicio_malo = fuzz.trimf(x, [0, 0, 5])\n",
    "servicio_regular = fuzz.trimf(x, [2, 5, 8])\n",
    "servicio_bueno = fuzz.trimf(x, [5, 10, 10])\n",
    "\n",
    "ax[1].plot(x, servicio_malo, label='Malo')\n",
    "ax[1].plot(x, servicio_regular, label='Regular')\n",
    "ax[1].plot(x, servicio_bueno, label='Bueno')\n",
    "ax[1].set_title(\"Función de membresía: Servicio\")\n",
    "ax[1].legend()\n",
    "\n",
    "plt.tight_layout()\n",
    "plt.show()"
   ]
  },
  {
   "cell_type": "code",
   "execution_count": null,
   "id": "0455088f",
   "metadata": {},
   "outputs": [],
   "source": [
    "# =============================\n",
    "# 4. Generar datos sintéticos\n",
    "# =============================\n",
    "\n",
    "comida = np.linspace(0, 10, 50)\n",
    "servicio = np.linspace(0, 10, 50)\n",
    "C, S = np.meshgrid(comida, servicio)\n",
    "\n",
    "# Regla manual: satisfacción = 0.5*comida + 0.5*servicio (normalizado a [0, 10])\n",
    "satisfaccion = (0.5 * C + 0.5 * S)\n",
    "\n",
    "# Visualizar datos reales\n",
    "fig = plt.figure(figsize=(8, 5))\n",
    "ax = fig.add_subplot(111, projection='3d')\n",
    "ax.plot_surface(C, S, satisfaccion, cmap='viridis')\n",
    "ax.set_title(\"Superficie de Satisfacción (real)\")\n",
    "ax.set_xlabel(\"Comida\")\n",
    "ax.set_ylabel(\"Servicio\")\n",
    "ax.set_zlabel(\"Satisfacción\")\n",
    "plt.show()"
   ]
  },
  {
   "cell_type": "code",
   "execution_count": null,
   "id": "45a67ac7",
   "metadata": {},
   "outputs": [],
   "source": [
    "# =============================\n",
    "# 5. Preparar datos para ANFIS\n",
    "# =============================\n",
    "\n",
    "x_train = np.vstack((C.ravel(), S.ravel())).T\n",
    "y_train = satisfaccion.ravel()\n",
    "\n",
    "x_train_tensor = torch.tensor(x_train, dtype=torch.float32)\n",
    "y_train_tensor = torch.tensor(y_train, dtype=torch.float32).view(-1, 1)"
   ]
  },
  {
   "cell_type": "code",
   "execution_count": null,
   "id": "6fd3326a",
   "metadata": {},
   "outputs": [],
   "source": [
    "# =============================\n",
    "# 6. Crear y entrenar modelo ANFIS\n",
    "# =============================\n",
    "\n",
    "model = AnfisNet(n_input=2, n_rules=3)\n",
    "criterion = nn.MSELoss()\n",
    "optimizer = optim.Adam(model.parameters(), lr=0.01)\n",
    "\n",
    "losses = []\n",
    "\n",
    "print(\"Entrenando modelo ANFIS...\")\n",
    "\n",
    "for epoch in range(200):\n",
    "    optimizer.zero_grad()\n",
    "    output = model(x_train_tensor)\n",
    "    loss = criterion(output, y_train_tensor)\n",
    "    loss.backward()\n",
    "    optimizer.step()\n",
    "    losses.append(loss.item())\n",
    "    \n",
    "    if epoch % 20 == 0:\n",
    "        print(f\"Epoch {epoch} | Loss: {loss.item():.4f}\")"
   ]
  },
  {
   "cell_type": "code",
   "execution_count": null,
   "id": "eeb47d43",
   "metadata": {},
   "outputs": [],
   "source": [
    "# =============================\n",
    "# 7. Visualizar aprendizaje\n",
    "# =============================\n",
    "\n",
    "plt.figure(figsize=(8, 4))\n",
    "plt.plot(losses)\n",
    "plt.title(\"Pérdida durante el entrenamiento (Loss)\")\n",
    "plt.xlabel(\"Época\")\n",
    "plt.ylabel(\"Error cuadrático medio\")\n",
    "plt.grid()\n",
    "plt.show()"
   ]
  },
  {
   "cell_type": "code",
   "execution_count": null,
   "id": "6d4cfa97",
   "metadata": {},
   "outputs": [],
   "source": [
    "# =============================\n",
    "# 8. Visualizar la predicción del modelo\n",
    "# =============================\n",
    "\n",
    "with torch.no_grad():\n",
    "    y_pred = model(x_train_tensor).numpy().reshape(50, 50)\n",
    "\n",
    "fig = plt.figure(figsize=(12, 5))\n",
    "\n",
    "# Real\n",
    "ax1 = fig.add_subplot(1, 2, 1, projection='3d')\n",
    "ax1.plot_surface(C, S, satisfaccion, cmap='viridis')\n",
    "ax1.set_title(\"Satisfacción Real\")\n",
    "ax1.set_xlabel(\"Comida\")\n",
    "ax1.set_ylabel(\"Servicio\")\n",
    "\n",
    "# Predicho\n",
    "ax2 = fig.add_subplot(1, 2, 2, projection='3d')\n",
    "ax2.plot_surface(C, S, y_pred, cmap='plasma')\n",
    "ax2.set_title(\"Predicción por ANFIS\")\n",
    "ax2.set_xlabel(\"Comida\")\n",
    "ax2.set_ylabel(\"Servicio\")\n",
    "\n",
    "plt.show()"
   ]
  }
 ],
 "metadata": {
  "kernelspec": {
   "display_name": "QAGeneral",
   "language": "python",
   "name": "python3"
  },
  "language_info": {
   "name": "python",
   "version": "3.12.7"
  }
 },
 "nbformat": 4,
 "nbformat_minor": 5
}
