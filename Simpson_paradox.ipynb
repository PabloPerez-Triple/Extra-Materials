{
 "cells": [
  {
   "cell_type": "markdown",
   "metadata": {},
   "source": [
    "# La Paradoja de Simpson\n",
    "\n",
    "La Paradoja de Simpson ocurre cuando una tendencia observable en diferentes grupos desaparece o se invierte al combinar esos grupos. Esta paradoja es un recordatorio de que el análisis de datos debe considerar cuidadosamente la segmentación y el contexto.\n",
    "\n",
    "## **Objetivos de la Clase**\n",
    "1. Entender qué es la Paradoja de Simpson y por qué ocurre.\n",
    "2. Aprender a identificarla en datasets reales.\n",
    "3. Realizar análisis práctico usando Python.\n",
    "4. Generar debates sobre decisiones basadas en datos.\n",
    "\n",
    "---\n",
    "\n",
    "## **1. Introducción a la Paradoja de Simpson**\n",
    "Cuando los datos están segmentados en grupos, es posible que cada grupo muestre una tendencia específica. Sin embargo, al combinar esos grupos, la tendencia puede desaparecer o invertirse. Esto se debe a factores como el tamaño de los grupos o características no consideradas.\n",
    "\n",
    "---\n",
    "\n",
    "## **2. Ejemplo Conceptual**\n",
    "Imagina que estás analizando la efectividad de dos tratamientos médicos (A y B) en dos hospitales.\n",
    "\n",
    "| **Hospital** | **Tratamiento A** | **Tratamiento B** |\n",
    "|--------------|-------------------|-------------------|\n",
    "| 1            |  100% (100/100)      | 98.9% (9,800/9,900)      |\n",
    "| 2            |  1% (100/9,900)        | 0% (0/100)          |\n",
    "| Ambos        |  2% (200/10,000)       | 98% (9,800/10,000)      |\n",
    "\n",
    "\n",
    "---\n"
   ]
  },
  {
   "cell_type": "markdown",
   "metadata": {},
   "source": [
    "### 3. Interpretación del Ejemplo\n",
    "1. Hospital 1:\n",
    "\n",
    "    - El Tratamiento A tiene una tasa de éxito del 100%.\n",
    "    - El Tratamiento B tiene una tasa de éxito del 98.9%.\n",
    "2. Hospital 2:\n",
    "\n",
    "    - El Tratamiento A tiene una tasa de éxito del 1%.\n",
    "    - El Tratamiento B tiene una tasa de éxito del 0%.\n",
    "3. Combinados (Ambos):\n",
    "\n",
    "    - El Tratamiento A tiene una tasa de éxito del 2%.\n",
    "    - El Tratamiento B tiene una tasa de éxito del 98%.\n",
    "    - ¿Qué pasa? \n",
    "    Aunque Tratamiento A parece mejor en ambos hospitales por separado, al combinar los datos, Tratamiento B tiene una tasa de éxito mucho mayor. Esto ocurre porque el número de pacientes tratados en cada hospital afecta significativamente las tasas combinadas."
   ]
  }
 ],
 "metadata": {
  "kernelspec": {
   "display_name": "QAGeneral",
   "language": "python",
   "name": "python3"
  },
  "language_info": {
   "codemirror_mode": {
    "name": "ipython",
    "version": 3
   },
   "file_extension": ".py",
   "mimetype": "text/x-python",
   "name": "python",
   "nbconvert_exporter": "python",
   "pygments_lexer": "ipython3",
   "version": "3.12.7"
  }
 },
 "nbformat": 4,
 "nbformat_minor": 2
}
