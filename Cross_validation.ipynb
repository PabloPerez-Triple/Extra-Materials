{
 "cells": [
  {
   "cell_type": "markdown",
   "metadata": {},
   "source": [
    "# Cross-Validation: Una Guía Completa\n",
    "\n",
    "## Introducción\n",
    "\n",
    "La **Validación Cruzada (Cross-Validation)** es una técnica utilizada en Machine Learning para evaluar el rendimiento de un modelo de manera robusta. Divide los datos en diferentes subconjuntos, permitiendo entrenar y validar el modelo en diferentes combinaciones de datos. Esto ayuda a garantizar que el modelo generalice bien a datos no vistos.\n",
    "\n",
    "---\n",
    "\n",
    "## Concepto Fundamental\n",
    "\n",
    "La validación cruzada implica dividir los datos en \"k\" subconjuntos (o *folds*). En cada iteración:\n",
    "1. Se selecciona un subconjunto como datos de prueba.\n",
    "2. Los otros subconjuntos se utilizan como datos de entrenamiento.\n",
    "3. El proceso se repite k veces, asegurando que cada subconjunto sea usado como datos de prueba exactamente una vez.\n",
    "\n",
    "El rendimiento promedio de todas las iteraciones se utiliza como métrica final del modelo.\n",
    "\n",
    "---\n",
    "\n",
    "## Método de Feynman\n",
    "\n",
    "Imagina que estás aprendiendo a jugar ajedrez. Para mejorar, decides practicar contra diferentes amigos. Primero, juegas contra el amigo 1, mientras observas las estrategias de los demás. Luego, cambias y juegas contra el amigo 2, y así sucesivamente. Al final, evalúas tus habilidades considerando cómo te fue con cada amigo. Esto es como Cross-Validation: el modelo \"aprende\" en diferentes combinaciones de datos y se evalúa en las restantes.\n",
    "\n",
    "---\n",
    "\n",
    "## Tipos de Cross-Validation\n",
    "\n",
    "### 1. **k-Fold Cross-Validation**\n",
    "\n",
    "Divides los datos en $k$ *folds*. En cada iteración:\n",
    "- Uno de los folds se usa para prueba.\n",
    "- Los $k-1$ folds restantes se usan para entrenamiento.\n",
    "\n",
    "#### Fórmula:\n",
    "\n",
    "$$\n",
    "\\text{Métrica Promedio} = \\frac{1}{k} \\sum_{i=1}^{k} \\text{Métrica}_i\n",
    "$$\n",
    "\n",
    "#### Aplicación:\n",
    "- Bueno para conjuntos de datos pequeños o medianos.\n",
    "- Ejemplo: Evaluar un modelo de clasificación de clientes.\n",
    "\n",
    "---\n",
    "\n",
    "### 2. **Leave-One-Out Cross-Validation (LOOCV)**\n",
    "\n",
    "En este método, cada muestra se utiliza como conjunto de prueba exactamente una vez, mientras el resto se usa para entrenamiento. Es un caso extremo de $k$-fold donde $k = n$.\n",
    "\n",
    "#### Aplicación:\n",
    "- Bueno para conjuntos de datos muy pequeños.\n",
    "- Computacionalmente costoso.\n",
    "\n",
    "---\n",
    "\n",
    "### 3. **Stratified k-Fold Cross-Validation**\n",
    "\n",
    "Es una variación de $k$-fold donde se asegura que la proporción de clases en cada fold sea similar a la del conjunto original. Es útil para problemas de clasificación desbalanceados.\n",
    "\n",
    "#### Aplicación:\n",
    "- Problemas de clasificación con clases desbalanceadas.\n",
    "\n",
    "---\n",
    "\n",
    "### 4. **Time Series Cross-Validation**\n",
    "\n",
    "En problemas con datos temporales, no se pueden usar datos futuros para predecir el pasado. Este método asegura que la validación respete la secuencia temporal.\n",
    "\n",
    "#### Aplicación:\n",
    "- Modelos de series de tiempo (e.g., predicción de ventas).\n",
    "\n",
    "---\n",
    "\n",
    "## Comparación de Métodos\n",
    "\n",
    "| **Método**                   | **Ventajas**                                      | **Limitaciones**                                    | **Aplicaciones Comunes**           |\n",
    "|-------------------------------|--------------------------------------------------|----------------------------------------------------|-------------------------------------|\n",
    "| **k-Fold**                   | Balance entre tiempo de cómputo y precisión.     | Puede no funcionar bien con datos desbalanceados.  | Clasificación y regresión general. |\n",
    "| **LOOCV**                    | Utiliza todo el conjunto de datos.               | Muy costoso para grandes conjuntos de datos.       | Conjuntos pequeños.                |\n",
    "| **Stratified k-Fold**        | Proporciones de clases consistentes.             | Computacionalmente más costoso que $k$-fold.     | Clasificación desbalanceada.       |\n",
    "| **Time Series Cross-Validation** | Respeta la secuencia temporal de los datos.    | No puede mezclar datos de manera aleatoria.         | Series temporales.                 |\n",
    "\n",
    "---\n",
    "\n",
    "## Ejemplo Práctico en Python\n",
    "\n",
    "### Configuración del entorno"
   ]
  },
  {
   "cell_type": "code",
   "execution_count": 1,
   "metadata": {},
   "outputs": [],
   "source": [
    "from sklearn.model_selection import cross_val_score, KFold, StratifiedKFold\n",
    "from sklearn.linear_model import LogisticRegression\n",
    "from sklearn.datasets import load_iris\n",
    "import numpy as np\n",
    "\n",
    "# Cargar datos de ejemplo\n",
    "data = load_iris()\n",
    "X = data.data\n",
    "y = data.target\n",
    "\n",
    "# Modelo de regresión logística\n",
    "model = LogisticRegression(max_iter=200)"
   ]
  },
  {
   "cell_type": "markdown",
   "metadata": {},
   "source": [
    "### 1. k-Fold Cross-Validation"
   ]
  },
  {
   "cell_type": "code",
   "execution_count": 2,
   "metadata": {},
   "outputs": [
    {
     "name": "stdout",
     "output_type": "stream",
     "text": [
      "Accuracy en cada fold: [1.         0.96666667 1.         0.93333333 0.93333333]\n",
      "Accuracy promedio: 0.9666666666666668\n"
     ]
    }
   ],
   "source": [
    "# Configuración de 5 folds\n",
    "kf = KFold(n_splits=5, shuffle=True, random_state=24)\n",
    "\n",
    "# Validación cruzada\n",
    "scores = cross_val_score(model, X, y, cv=kf, scoring='accuracy')\n",
    "\n",
    "print(\"Accuracy en cada fold:\", scores)\n",
    "print(\"Accuracy promedio:\", np.mean(scores))"
   ]
  },
  {
   "cell_type": "markdown",
   "metadata": {},
   "source": [
    "### 2. Stratified k-Fold Cross-Validation"
   ]
  },
  {
   "cell_type": "code",
   "execution_count": 3,
   "metadata": {},
   "outputs": [
    {
     "name": "stdout",
     "output_type": "stream",
     "text": [
      "Accuracy en cada fold (estratificado): [1.         0.96666667 0.93333333 1.         0.93333333]\n",
      "Accuracy promedio (estratificado): 0.9666666666666668\n"
     ]
    }
   ],
   "source": [
    "# Configuración de 5 folds estratificados\n",
    "skf = StratifiedKFold(n_splits=5, shuffle=True, random_state=42)\n",
    "\n",
    "# Validación cruzada\n",
    "stratified_scores = cross_val_score(model, X, y, cv=skf, scoring='accuracy')\n",
    "\n",
    "print(\"Accuracy en cada fold (estratificado):\", stratified_scores)\n",
    "print(\"Accuracy promedio (estratificado):\", np.mean(stratified_scores))"
   ]
  },
  {
   "cell_type": "markdown",
   "metadata": {},
   "source": [
    "### 3. Time Series Cross-Validation (Simulación)"
   ]
  },
  {
   "cell_type": "code",
   "execution_count": 4,
   "metadata": {},
   "outputs": [
    {
     "name": "stdout",
     "output_type": "stream",
     "text": [
      "Accuracy en cada fold (series temporales): [       nan 0.64864865 0.75675676]\n",
      "Accuracy promedio (series temporales): nan\n"
     ]
    },
    {
     "name": "stderr",
     "output_type": "stream",
     "text": [
      "c:\\Users\\juanp\\OneDrive\\Documentos\\TripleTen\\QAGeneral\\Lib\\site-packages\\sklearn\\model_selection\\_validation.py:540: FitFailedWarning: \n",
      "1 fits failed out of a total of 3.\n",
      "The score on these train-test partitions for these parameters will be set to nan.\n",
      "If these failures are not expected, you can try to debug them by setting error_score='raise'.\n",
      "\n",
      "Below are more details about the failures:\n",
      "--------------------------------------------------------------------------------\n",
      "1 fits failed with the following error:\n",
      "Traceback (most recent call last):\n",
      "  File \"c:\\Users\\juanp\\OneDrive\\Documentos\\TripleTen\\QAGeneral\\Lib\\site-packages\\sklearn\\model_selection\\_validation.py\", line 888, in _fit_and_score\n",
      "    estimator.fit(X_train, y_train, **fit_params)\n",
      "  File \"c:\\Users\\juanp\\OneDrive\\Documentos\\TripleTen\\QAGeneral\\Lib\\site-packages\\sklearn\\base.py\", line 1473, in wrapper\n",
      "    return fit_method(estimator, *args, **kwargs)\n",
      "           ^^^^^^^^^^^^^^^^^^^^^^^^^^^^^^^^^^^^^^\n",
      "  File \"c:\\Users\\juanp\\OneDrive\\Documentos\\TripleTen\\QAGeneral\\Lib\\site-packages\\sklearn\\linear_model\\_logistic.py\", line 1301, in fit\n",
      "    raise ValueError(\n",
      "ValueError: This solver needs samples of at least 2 classes in the data, but the data contains only one class: 0\n",
      "\n",
      "  warnings.warn(some_fits_failed_message, FitFailedWarning)\n"
     ]
    }
   ],
   "source": [
    "from sklearn.model_selection import TimeSeriesSplit\n",
    "\n",
    "# Configuración de 3 divisiones de series temporales\n",
    "tscv = TimeSeriesSplit(n_splits=3)\n",
    "\n",
    "# Validación cruzada\n",
    "time_series_scores = cross_val_score(model, X, y, cv=tscv, scoring='accuracy')\n",
    "\n",
    "print(\"Accuracy en cada fold (series temporales):\", time_series_scores)\n",
    "print(\"Accuracy promedio (series temporales):\", np.mean(time_series_scores))"
   ]
  },
  {
   "cell_type": "markdown",
   "metadata": {},
   "source": [
    "## Consejos Prácticos\n",
    "1. **Usa stratified k-fold para datos desbalanceados**: Esto asegura que la proporción de clases sea consistente en los folds.\n",
    "2. **Respeta el orden temporal**: En problemas de series temporales, usa métodos que respeten la secuencia.\n",
    "3. **No uses los datos de validación para ajustar el modelo**: Siempre separa datos de prueba para evaluar el modelo final."
   ]
  }
 ],
 "metadata": {
  "kernelspec": {
   "display_name": "QAGeneral",
   "language": "python",
   "name": "python3"
  },
  "language_info": {
   "codemirror_mode": {
    "name": "ipython",
    "version": 3
   },
   "file_extension": ".py",
   "mimetype": "text/x-python",
   "name": "python",
   "nbconvert_exporter": "python",
   "pygments_lexer": "ipython3",
   "version": "3.12.7"
  }
 },
 "nbformat": 4,
 "nbformat_minor": 2
}
