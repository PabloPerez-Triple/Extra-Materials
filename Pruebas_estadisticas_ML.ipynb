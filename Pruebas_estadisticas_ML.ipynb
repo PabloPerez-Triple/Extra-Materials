{
 "cells": [
  {
   "cell_type": "markdown",
   "metadata": {},
   "source": [
    "# Pruebas Estadísticas en Machine Learning\n",
    "\n",
    "En este notebook exploraremos diferentes pruebas estadísticas, cuándo utilizarlas, sus supuestos y ejemplos prácticos.\n",
    "\n",
    "---\n",
    "\n",
    "## Tabla Comparativa de Pruebas Estadísticas\n",
    "\n",
    "| **Prueba**           | **Cuándo Usarla**                                                                                     | **Supuestos**                                                                                                                                                                      | **Datos de Entrada**                        | **Resultado Principal**        |\n",
    "|-----------------------|-----------------------------------------------------------------------------------------------------|------------------------------------------------------------------------------------------------------------------------------------------------------------------------------------|---------------------------------------------|--------------------------------|\n",
    "| **t-test**           | Comparar las medias de dos grupos independientes o dependientes.                                    | - Los datos deben seguir una distribución normal.<br>- Varianzas iguales (para el t-test estándar).<br>- Escala continua o de intervalos.                                           | Continuos o normalmente distribuidos       | Valor-p y diferencia de medias |\n",
    "| **Levene's Test**    | Comparar las varianzas de dos o más grupos (para validar igualdad de varianzas antes de un t-test). | - No requiere normalidad.<br>- Independencia entre grupos.                                                                                                                         | Continuos o categóricos (2+ grupos)        | Valor-p para igualdad de varianza |\n",
    "| **Mann-Whitney U**   | Comparar dos grupos cuando los datos no son normales o hay valores atípicos.                        | - Los datos no necesitan ser normales.<br>- Escala ordinal o continua.<br>- Independencia entre los grupos.                                                                        | Ordinal o continuo                          | Valor-p para diferencia de distribución |\n",
    "| **ANOVA**            | Comparar las medias de más de dos grupos.                                                          | - Los datos deben ser normales.<br>- Igualdad de varianzas entre grupos.<br>- Independencia entre grupos.                                                                           | Continuos en múltiples grupos               | Valor F y valor-p              |\n",
    "| **Kruskal-Wallis**   | Comparar más de dos grupos cuando los datos no son normales.                                       | - No requiere normalidad.<br>- Escala ordinal o continua.<br>- Independencia entre los grupos.                                                                                     | Ordinal o continuo                          | Valor H y valor-p               |\n",
    "| **Chi-Square Test**  | Comparar proporciones o frecuencias observadas en tablas de contingencia.                          | - Los datos deben ser categóricos.<br>- Se espera un número mínimo de observaciones en cada celda (>= 5 por celda preferentemente).                                                | Categóricos                                | Valor chi-cuadrado y valor-p    |\n",
    "| **Wilcoxon Signed-Rank** | Comparar dos muestras relacionadas cuando no se cumplen los supuestos del t-test pareado.            | - Los datos no necesitan ser normales.<br>- Escala ordinal o continua.<br>- Comparación de pares relacionados.                                                                     | Ordinal o continuo (pares)                 | Valor-p para diferencia de distribución |\n",
    "| **Shapiro-Wilk**     | Evaluar la normalidad de los datos.                                                                | - Datos independientes.<br>- Escala continua.                                                                                                                                     | Continuos                                  | Valor W y valor-p               |\n",
    "| **Kolmogorov-Smirnov** | Comparar distribuciones de dos muestras (prueba de igualdad de distribuciones).                    | - Los datos deben ser independientes.<br>- Escala ordinal o continua.                                                                                                              | Continuos o ordinales                       | Valor D y valor-p               |\n",
    "| **Pearson Correlation** | Evaluar correlación lineal entre dos variables.                                                   | - Relación lineal entre variables.<br>- Escala continua.<br>- Sin valores atípicos extremos.                                                                                       | Continuos                                  | Coeficiente \\( r \\) y valor-p   |\n",
    "| **Spearman Correlation** | Evaluar correlación monotónica entre dos variables (cuando no es lineal).                        | - No requiere normalidad.<br>- Escala ordinal o continua.<br>- Relación monotónica (puede ser no lineal).                                                                           | Ordinal o continuo                          | Coeficiente \\( \\rho \\) y valor-p |\n",
    "\n",
    "---\n",
    "\n",
    "## Guía Rápida para Elegir la Prueba\n",
    "\n",
    "1. **Comparar medias (2 grupos):**\n",
    "   - **Normalidad:** Usa un **t-test**.\n",
    "   - **No normalidad o valores atípicos:** Usa un **Mann-Whitney U**.\n",
    "2. **Comparar medias (más de 2 grupos):**\n",
    "   - **Normalidad:** Usa **ANOVA**.\n",
    "   - **No normalidad:** Usa **Kruskal-Wallis**.\n",
    "3. **Igualdad de varianzas:**\n",
    "   - Usa **Levene's Test**.\n",
    "4. **Comparar proporciones/frecuencias:**\n",
    "   - Usa **Chi-Square Test**.\n",
    "5. **Normalidad de datos:**\n",
    "   - Usa **Shapiro-Wilk** o **Kolmogorov-Smirnov**.\n",
    "6. **Correlación entre variables:**\n",
    "   - **Lineal:** Usa **Pearson**.\n",
    "   - **No lineal o monotónica:** Usa **Spearman**.\n",
    "\n",
    "---\n",
    "\n",
    "## Ejemplo Práctico: Prueba de Significancia para un A/B Test"
   ]
  },
  {
   "cell_type": "markdown",
   "metadata": {},
   "source": [
    "### Paso 1: Importar las librerías necesarias"
   ]
  },
  {
   "cell_type": "code",
   "execution_count": 1,
   "metadata": {},
   "outputs": [],
   "source": [
    "import pandas as pd\n",
    "import numpy as np\n",
    "from scipy import stats"
   ]
  },
  {
   "cell_type": "markdown",
   "metadata": {},
   "source": [
    "### Paso 2: Crear datos simulados"
   ]
  },
  {
   "cell_type": "code",
   "execution_count": 2,
   "metadata": {},
   "outputs": [],
   "source": [
    "# Datos simulados\n",
    "group_A = np.random.normal(loc=50, scale=10, size=100)\n",
    "group_B = np.random.normal(loc=55, scale=10, size=100)"
   ]
  },
  {
   "cell_type": "markdown",
   "metadata": {},
   "source": [
    "### Paso 3: Verificar normalidad"
   ]
  },
  {
   "cell_type": "code",
   "execution_count": 3,
   "metadata": {},
   "outputs": [
    {
     "name": "stdout",
     "output_type": "stream",
     "text": [
      "Normalidad Grupo A: ShapiroResult(statistic=0.988371055654319, pvalue=0.5359563581079994)\n",
      "Normalidad Grupo B: ShapiroResult(statistic=0.983414490852257, pvalue=0.2427943904833999)\n"
     ]
    }
   ],
   "source": [
    "# Shapiro-Wilk Test para normalidad\n",
    "print(\"Normalidad Grupo A:\", stats.shapiro(group_A))\n",
    "print(\"Normalidad Grupo B:\", stats.shapiro(group_B))"
   ]
  },
  {
   "cell_type": "markdown",
   "metadata": {},
   "source": [
    "### Paso 4: Probar igualdad de varianzas"
   ]
  },
  {
   "cell_type": "code",
   "execution_count": 4,
   "metadata": {},
   "outputs": [
    {
     "name": "stdout",
     "output_type": "stream",
     "text": [
      "Igualdad de varianzas: LeveneResult(statistic=1.2783180465403452, pvalue=0.2595796680699125)\n"
     ]
    }
   ],
   "source": [
    "# Levene's Test para igualdad de varianzas\n",
    "print(\"Igualdad de varianzas:\", stats.levene(group_A, group_B))"
   ]
  },
  {
   "cell_type": "markdown",
   "metadata": {},
   "source": [
    "### Paso 5: Realizar un t-test"
   ]
  },
  {
   "cell_type": "code",
   "execution_count": 5,
   "metadata": {},
   "outputs": [
    {
     "name": "stdout",
     "output_type": "stream",
     "text": [
      "t-test: -1.7262474461875028 0.08586277263917742\n"
     ]
    }
   ],
   "source": [
    "# t-test para comparar medias\n",
    "t_stat, p_value = stats.ttest_ind(group_A, group_B)\n",
    "print(\"t-test:\", t_stat, p_value)"
   ]
  }
 ],
 "metadata": {
  "kernelspec": {
   "display_name": "QAGeneral",
   "language": "python",
   "name": "python3"
  },
  "language_info": {
   "codemirror_mode": {
    "name": "ipython",
    "version": 3
   },
   "file_extension": ".py",
   "mimetype": "text/x-python",
   "name": "python",
   "nbconvert_exporter": "python",
   "pygments_lexer": "ipython3",
   "version": "3.12.7"
  }
 },
 "nbformat": 4,
 "nbformat_minor": 2
}
