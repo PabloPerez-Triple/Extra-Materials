{
 "cells": [
  {
   "cell_type": "markdown",
   "metadata": {},
   "source": [
    "# Clase: Estructuras `for` en Python\n",
    "\n",
    "En esta clase, aprenderemos sobre el uso de los bucles `for` en Python. Este es uno de los tipos de bucles más utilizados, pues permite iterar sobre una colección o secuencia de elementos. Al final de la clase, veremos una técnica avanzada llamada *list comprehensions*, que simplifica las estructuras `for` cuando queremos construir listas de manera eficiente.\n",
    "\n",
    "## 1. Bucle `for`: Introducción\n",
    "\n",
    "En Python, el bucle `for` nos permite iterar sobre cualquier secuencia (listas, cadenas, tuplas, diccionarios, conjuntos). Es muy útil cuando necesitamos aplicar una operación repetidamente a cada elemento de una secuencia.\n",
    "\n",
    "### Sintaxis Básica del `for`\n",
    "\n",
    "La sintaxis básica de un bucle `for` en Python es:\n",
    "```python\n",
    "for variable in secuencia:\n",
    "    # Código a ejecutar en cada iteración\n",
    "```\n",
    "donde:\n",
    "- variable: Es el nombre que tomará cada elemento de la secuencia en cada iteración.\n",
    "- secuencia: Es la lista, tupla, cadena, o cualquier estructura iterable que queremos recorrer.\n"
   ]
  },
  {
   "cell_type": "markdown",
   "metadata": {},
   "source": [
    "### Ejemplo 1\n",
    "¿Qué hace este código?"
   ]
  },
  {
   "cell_type": "code",
   "execution_count": null,
   "metadata": {},
   "outputs": [],
   "source": [
    "for i in range(5):\n",
    "    print(i)"
   ]
  },
  {
   "cell_type": "markdown",
   "metadata": {},
   "source": [
    "### Ejemplo 2\n",
    "¿Qué hace este código?"
   ]
  },
  {
   "cell_type": "code",
   "execution_count": 16,
   "metadata": {},
   "outputs": [
    {
     "name": "stdout",
     "output_type": "stream",
     "text": [
      "Holaabd\n",
      "holaabd\n",
      "1234abd\n",
      "Holaabd\n",
      "holaabd\n",
      "1234abd\n"
     ]
    }
   ],
   "source": [
    "lista = [\"Hola\", \"hola\", \"1234\",\"Hola\",\"hola\",\"1234\",'aa']\n",
    "\n",
    "for elemento in lista:\n",
    "    nuevo_elemt = elemento + 'abd'\n",
    "    print(nuevo_elemt)\n",
    "\n"
   ]
  },
  {
   "cell_type": "markdown",
   "metadata": {},
   "source": [
    "## 2. Bucles for Anidados\n",
    "Es posible anidar bucles for, es decir, colocar un bucle dentro de otro. Esto es útil cuando trabajamos con listas de listas (matrices o tablas, por ejemplo)."
   ]
  },
  {
   "cell_type": "markdown",
   "metadata": {},
   "source": [
    "### Ejemplo de Bucle `for` Anidado"
   ]
  },
  {
   "cell_type": "code",
   "execution_count": null,
   "metadata": {},
   "outputs": [],
   "source": [
    "matriz = [\n",
    "    [1, 2, 3],\n",
    "    [4, 5, 6],\n",
    "    [7, 8, 9]\n",
    "]\n",
    "\n",
    "for fila in matriz:\n",
    "    print(fila)\n",
    "    for elemento in fila:\n",
    "        print(elemento)"
   ]
  },
  {
   "cell_type": "markdown",
   "metadata": {},
   "source": [
    "## 3. Modificando el Flujo: `break` y `continue`\n",
    "\n",
    "- `break`: Sale del bucle antes de que termine.\n",
    "- `continue`: Salta a la siguiente iteración del bucle, omitiendo el código restante de esa iteración.\n",
    "\n",
    "### Ejemplo de break\n",
    "Este código se detendrá cuando numero sea igual a 5."
   ]
  },
  {
   "cell_type": "code",
   "execution_count": 7,
   "metadata": {},
   "outputs": [
    {
     "name": "stdout",
     "output_type": "stream",
     "text": [
      "0\n",
      "1\n",
      "2\n",
      "3\n",
      "4\n",
      "5\n"
     ]
    }
   ],
   "source": [
    "for numero in range(10):\n",
    "    print(numero)\n",
    "    if numero == 5:\n",
    "        break\n"
   ]
  },
  {
   "cell_type": "markdown",
   "metadata": {},
   "source": [
    "### Ejemplo de continue\n",
    "Este código imprimirá solo los números pares entre 0 y 9."
   ]
  },
  {
   "cell_type": "code",
   "execution_count": 6,
   "metadata": {},
   "outputs": [
    {
     "name": "stdout",
     "output_type": "stream",
     "text": [
      "0\n",
      "2\n",
      "4\n",
      "6\n",
      "8\n"
     ]
    }
   ],
   "source": [
    "for numero in range(10):\n",
    "    if numero % 2 == 1:\n",
    "        continue\n",
    "    print(numero)"
   ]
  },
  {
   "cell_type": "markdown",
   "metadata": {},
   "source": [
    "## 4. List Comprehensions: Comprensiones de Listas\n",
    "Las *list comprehensions* son una manera compacta de crear listas. Permiten generar una lista aplicando una expresión a cada elemento de una secuencia de forma concisa y legible.\n",
    "\n",
    "Sintaxis de List Comprehensions\n",
    "```python\n",
    "nueva_lista = [expresion for elemento in iterable]\n",
    "```\n",
    "\n"
   ]
  },
  {
   "cell_type": "markdown",
   "metadata": {},
   "source": [
    "### Ejemplo de List Comprehensions\n",
    "En lugar de hacer esto:"
   ]
  },
  {
   "cell_type": "code",
   "execution_count": null,
   "metadata": {},
   "outputs": [],
   "source": [
    "numeros = [1, 2, 3, 4, 5]\n",
    "cuadrados = []\n",
    "for numero in numeros:\n",
    "    cuadrados.append(numero ** 2)\n",
    "print(cuadrados)"
   ]
  },
  {
   "cell_type": "markdown",
   "metadata": {},
   "source": [
    "Podemos usar list comprehensions para escribirlo en una línea:"
   ]
  },
  {
   "cell_type": "code",
   "execution_count": null,
   "metadata": {},
   "outputs": [],
   "source": [
    "numeros = [1, 2, 3, 4, 5]\n",
    "cuadrados = [numero ** 2 for numero in numeros]\n",
    "print(cuadrados)  # Salida: [1, 4, 9, 16, 25]"
   ]
  },
  {
   "cell_type": "markdown",
   "metadata": {},
   "source": [
    "## 4.1 List Comprehensions con Condicionales\n",
    "Podemos incluir una condición en la list comprehension para filtrar los elementos que queremos en la nueva lista."
   ]
  },
  {
   "cell_type": "code",
   "execution_count": 9,
   "metadata": {},
   "outputs": [
    {
     "name": "stdout",
     "output_type": "stream",
     "text": [
      "[0, 20, 40, 60, 80]\n",
      "[0, 20, 40, 60, 80]\n",
      "[0, -1, 2, -1, 4, -1, 6, -1, 8, -1]\n"
     ]
    }
   ],
   "source": [
    "numeros = [0,1, 2, 3, 4, 5,6,7,8,9]\n",
    "\n",
    "pares1=[]\n",
    "for numero in numeros:\n",
    "    if numero % 2 == 0:\n",
    "        calculado = numero*10\n",
    "        pares1.append(calculado)\n",
    "\n",
    "pares2 = [numero*10 for numero in numeros if numero % 2 == 0 ]\n",
    "\n",
    "# lista_comp = [salida_positiva if condicion else salida_negativa for elemento in iterable]\n",
    "\n",
    "lista3 = [numero if numero % 2 == 0 else -1 for numero in numeros]\n",
    "\n",
    "print(pares1)  # Salida: [2, 4]\n",
    "print(pares2)\n",
    "print(lista3)"
   ]
  },
  {
   "cell_type": "markdown",
   "metadata": {},
   "source": [
    "## 5. Ejercicios de Práctica\n",
    "### Ejercicio 1: Números Pares\n",
    "Crea una lista de los números pares entre 0 y 20 utilizando list comprehensions."
   ]
  },
  {
   "cell_type": "code",
   "execution_count": null,
   "metadata": {},
   "outputs": [],
   "source": []
  },
  {
   "cell_type": "markdown",
   "metadata": {
    "vscode": {
     "languageId": "plaintext"
    }
   },
   "source": [
    "### Ejercicio 2: Longitud de Palabras\n",
    "Dada una lista de palabras, crea una nueva lista que contenga la longitud de cada palabra."
   ]
  },
  {
   "cell_type": "code",
   "execution_count": null,
   "metadata": {},
   "outputs": [],
   "source": [
    "palabras = [\"manzana\", \"banana\", \"cereza\"]\n",
    "longitudes = [len(palabra) for palabra in palabras]\n",
    "print(longitudes)  # Salida: [7, 6, 6]"
   ]
  },
  {
   "cell_type": "markdown",
   "metadata": {},
   "source": [
    "### Ejercicio 3: Conversión de Temperaturas\n",
    "Dada una lista de temperaturas en grados Celsius, convierte cada valor a grados Fahrenheit usando una list comprehension.\n",
    "\n",
    "Formula de conversión: $F = C * 9/5 + 32$"
   ]
  },
  {
   "cell_type": "code",
   "execution_count": 41,
   "metadata": {},
   "outputs": [],
   "source": [
    "celsius = [0, 10, 20, 30, 40]\n",
    "# codigo aqui\n",
    "# print(fahrenheit)"
   ]
  },
  {
   "cell_type": "markdown",
   "metadata": {},
   "source": [
    "### Ejercicio 4: Bucle for Anidado con List Comprehensions\n",
    "¿Qué hace este código?"
   ]
  },
  {
   "cell_type": "code",
   "execution_count": null,
   "metadata": {},
   "outputs": [],
   "source": [
    "incognita = [[i * j for j in range(1, 11)] for i in range(1, 11)]\n",
    "for fila in incognita:\n",
    "    print(fila)"
   ]
  },
  {
   "cell_type": "markdown",
   "metadata": {},
   "source": [
    "## Resumen\n",
    "- El bucle for se usa para iterar sobre secuencias como listas, tuplas, cadenas, y otros objetos iterables.\n",
    "- Podemos modificar el flujo del `for` con `break` y `continue`.\n",
    "- Las list comprehensions son una forma compacta y eficiente de crear listas a partir de otras secuencias.\n",
    "- Los bucles `for` anidados y list comprehensions nos permiten construir estructuras de datos complejas.\n"
   ]
  },
  {
   "cell_type": "code",
   "execution_count": null,
   "metadata": {},
   "outputs": [],
   "source": [
    "import itertools\n",
    "# comparar todos las configuraciones que podría ocupar mi modelo para encontrar la solucion\n",
    "for arboles, profundidad, valor in itertools.product([100, 200], [5,4,6,9], [10,20]):\n",
    "    print(f'El numero de arboles es {arboles}, con profundidad: {profundidad}, con valor {valor}')"
   ]
  },
  {
   "cell_type": "code",
   "execution_count": 2,
   "metadata": {},
   "outputs": [
    {
     "name": "stdout",
     "output_type": "stream",
     "text": [
      "\n",
      "      Hola mundo\n",
      "\n",
      "\n",
      "\n",
      "      \n",
      "      Soy Juan \n",
      "      Estoy en clase\n",
      "      \n"
     ]
    }
   ],
   "source": [
    "print(\"\"\"\n",
    "      Hola mundo\n",
    "\n",
    "\n",
    "\n",
    "      \n",
    "      Soy Juan \n",
    "      Estoy en clase\n",
    "      \"\"\")"
   ]
  }
 ],
 "metadata": {
  "kernelspec": {
   "display_name": "QAGeneral",
   "language": "python",
   "name": "python3"
  },
  "language_info": {
   "codemirror_mode": {
    "name": "ipython",
    "version": 3
   },
   "file_extension": ".py",
   "mimetype": "text/x-python",
   "name": "python",
   "nbconvert_exporter": "python",
   "pygments_lexer": "ipython3",
   "version": "3.12.7"
  }
 },
 "nbformat": 4,
 "nbformat_minor": 2
}
