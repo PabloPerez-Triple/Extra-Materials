{
 "cells": [
  {
   "cell_type": "markdown",
   "metadata": {},
   "source": [
    "# Dummy Model\n",
    "\n",
    "Un Dummy Model es un modelo simple que no utiliza los datos de entrada para hacer predicciones significativas. En cambio, sus predicciones se basan en reglas básicas o completamente aleatorias. Su propósito principal no es realizar una clasificación precisa, sino proporcionar un punto de referencia contra el cual se puedan comparar los modelos más avanzados.\n",
    "\n",
    "---\n",
    "## ¿Por qué usar un Dummy Model?\n",
    "\n",
    "1. Establecer un Punto de Referencia:\n",
    "- Antes de construir un modelo sofisticado (como KNN), es importante saber si dicho modelo realmente agrega valor.\n",
    "- Un Dummy Model establece un \"mínimo aceptable\" que cualquier modelo útil debería superar.\n",
    "2. Detectar Problemas en los Datos:\n",
    "- Si un modelo avanzado no supera al Dummy Model, podría indicar problemas en los datos, como ruido, desequilibrio de clases o irrelevancia de las características.\n",
    "3. Evaluar Métricas en Contexto:\n",
    "- Proporciona un contexto para las métricas de evaluación. Por ejemplo, una precisión del 80% podría no ser impresionante si un Dummy Model logra el 79%.\n",
    "\n",
    "---\n",
    "\n",
    "## ¿Cuándo usar un Dummy Model?\n",
    "- Durante la fase inicial de un proyecto de Machine Learning, para establecer un punto de comparación.\n",
    "- Al probar nuevos enfoques o algoritmos, para evaluar si aportan mejoras.\n",
    "- Al manejar conjuntos de datos desbalanceados, para comparar con una estrategia básica como predecir siempre la clase mayoritaria.\n",
    "\n",
    "---\n"
   ]
  },
  {
   "cell_type": "markdown",
   "metadata": {},
   "source": [
    "## Explicación del Código\n",
    "El código genera predicciones simuladas de un Dummy Model que retorna 1 con una probabilidad definida P."
   ]
  },
  {
   "cell_type": "code",
   "execution_count": 6,
   "metadata": {},
   "outputs": [],
   "source": [
    "import numpy as np"
   ]
  },
  {
   "cell_type": "code",
   "execution_count": 7,
   "metadata": {},
   "outputs": [],
   "source": [
    "def rnd_model_predict(P, size, seed=42):\n",
    "    rng = np.random.default_rng(seed=seed)  # Inicializa un generador de números pseudoaleatorios.\n",
    "    return rng.binomial(n=1, p=P, size=size)"
   ]
  },
  {
   "cell_type": "markdown",
   "metadata": {},
   "source": [
    "**Donde se tiene:**\n",
    "1. Parámetros:\n",
    "    - `P`: Probabilidad de predecir `1`. Por ejemplo, si `P=0.7`, el modelo predecirá `1` en el 70% de los casos.\n",
    "    - `size`: Número de predicciones a generar.\n",
    "    - `seed`: Semilla para asegurar que los resultados sean reproducibles.\n",
    "\n",
    "2. Generador de Números Aleatorios:\n",
    "    ```python\n",
    "    rng = np.random.default_rng(seed=seed)\n",
    "    ```\n",
    "    Se usa `np.random.default_rng()` para crear un generador de números pseudoaleatorios moderno y reproducible.\n",
    "\n",
    "3. Distribución Binomial:\n",
    "    ```python\n",
    "    return rng.binomial(n=1, p=P, size=size)\n",
    "    ```\n",
    "    Genera predicciones siguiendo una distribución binomial:\n",
    "    - `n=1`: Indica que estamos realizando un único experimento de Bernoulli por predicción.\n",
    "    - `p=P`: Es la probabilidad de éxito (predecir `1`).\n",
    "    - `size=size`: Especifica cuántas predicciones queremos generar.\n",
    "    Cada predicción será `1`con probabilidad `P` y `0` con probabilidad `1-P`."
   ]
  },
  {
   "cell_type": "markdown",
   "metadata": {},
   "source": [
    "## Ejemplo Práctico\n",
    "Supongamos que tenemos un dataset con 100 instancias y queremos usar un Dummy Model con probabilidad `P=0.7` para predecir:"
   ]
  },
  {
   "cell_type": "code",
   "execution_count": 8,
   "metadata": {},
   "outputs": [
    {
     "name": "stdout",
     "output_type": "stream",
     "text": [
      "[0 1 0 1 1 0 0 0 1 1 1 0 1 0 1 1 1 1 0 1 0 1 0 0 0 1 1 1 1 1 0 0 1 1 1 1 1\n",
      " 1 1 1 1 0 0 1 0 0 1 1 1 1 1 1 0 1 0 0 1 1 1 1 1 1 1 0 1 1 1 1 1 1 1 1 0 1\n",
      " 1 1 1 1 1 0 1 1 0 1 1 1 0 1 1 1 1 1 1 1 1 1 1 1 1 0]\n"
     ]
    }
   ],
   "source": [
    "predicciones = rnd_model_predict(P=0.7, size=100, seed=42)\n",
    "print(predicciones)"
   ]
  },
  {
   "cell_type": "markdown",
   "metadata": {},
   "source": [
    "Aproximadamente el 70% de los valores serán `1`.\n",
    "\n",
    "---"
   ]
  },
  {
   "cell_type": "markdown",
   "metadata": {},
   "source": [
    "## Comparación con un Modelo Real (como KNN)\n",
    "1. F1-Score en el Dummy Model:\n",
    "    - Si las clases están desbalanceadas, el Dummy Model puede tener un F1-score relativamente alto al predecir constantemente la clase mayoritaria.\n",
    "\n",
    "2. KNN y Escalado:\n",
    "    - KNN puede superar al Dummy Model si las características están bien diseñadas y el escalado mejora su rendimiento. Comparar el F1-score en ambos casos es crucial para verificar si el modelo agrega valor.\n",
    "---\n",
    "## Pros y Contras del Dummy Model\n",
    "**Pros**\n",
    "- Sencillo y rápido de implementar.\n",
    "- Útil para detectar problemas en los datos o evaluar nuevas estrategias.\n",
    "- Proporciona un punto de referencia objetivo.\n",
    "\n",
    "\n",
    "**Contras**\n",
    "- No considera patrones complejos en los datos.\n",
    "- No es adecuado para tareas donde la precisión es crítica."
   ]
  }
 ],
 "metadata": {
  "kernelspec": {
   "display_name": "QAGeneral",
   "language": "python",
   "name": "python3"
  },
  "language_info": {
   "codemirror_mode": {
    "name": "ipython",
    "version": 3
   },
   "file_extension": ".py",
   "mimetype": "text/x-python",
   "name": "python",
   "nbconvert_exporter": "python",
   "pygments_lexer": "ipython3",
   "version": "3.12.7"
  }
 },
 "nbformat": 4,
 "nbformat_minor": 2
}
