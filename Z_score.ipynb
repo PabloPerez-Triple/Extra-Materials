{
 "cells": [
  {
   "cell_type": "markdown",
   "metadata": {},
   "source": [
    "# z-score"
   ]
  },
  {
   "cell_type": "markdown",
   "metadata": {},
   "source": [
    "El z-score (o puntuación z) es una medida estadística que indica cuántas desviaciones estándar un dato particular se encuentra por encima o por debajo de la media de un conjunto de datos. Se usa principalmente para estandarizar datos y evaluar la posición relativa de un valor en una distribución normal.\n",
    "\n",
    "### 1. Fórmula del Z-Score\n",
    "La fórmula para calcular el z-score de un valor $x$ en un conjunto de datos es:\n",
    "\n",
    "$$\n",
    "z = \\frac{x-u}{\\sigma}\n",
    "$$\n",
    "\n",
    "​\n",
    " \n",
    "donde:\n",
    "- $x$ es el valor que queremos estandarizar.\n",
    "- $μ$ es la media del conjunto de datos.\n",
    "- $σ$ es la desviación estándar del conjunto de datos.\n",
    "\n",
    "### 2. ¿Qué Representa el Z-Score?\n",
    "-  **Posición Relativa**: Indica qué tan lejos está un valor de la media en términos de desviaciones estándar.\n",
    "    - Si $z=0$, el valor está exactamente en la media.\n",
    "    - Si $z>0$, el valor está por encima de la media.\n",
    "    - Si $z<0$, el valor está por debajo de la media.\n",
    "\n",
    "- **Identificación de Valores Atípicos**: En una distribución normal, los valores con z-scores superiores a 3 o inferiores a -3 son raros y, por lo tanto, se consideran potencialmente atípicos.\n",
    "\n",
    "### 3. Interpretación\n",
    "El z-score es especialmente útil porque permite estandarizar datos, convirtiendo cualquier distribución normal en una distribución normal estándar con media 0 y desviación estándar 1. Esto facilita la comparación entre diferentes conjuntos de datos y la detección de valores que se desvían de lo esperado.\n",
    "\n",
    "Un valor con $z=2$ está a dos desviaciones estándar por encima de la media, mientras que uno con $z=−1.5$ está $1.5$ desviaciones estándar por debajo de la media.\n",
    "\n",
    "### 4. Ejemplo de Uso en Python"
   ]
  },
  {
   "cell_type": "code",
   "execution_count": 2,
   "metadata": {},
   "outputs": [
    {
     "name": "stdout",
     "output_type": "stream",
     "text": [
      "   value   z_score\n",
      "0     10 -1.291830\n",
      "1     12 -0.952989\n",
      "2     13 -0.783569\n",
      "3     16 -0.275308\n",
      "4     18  0.063533\n",
      "5     22  0.741214\n",
      "6     24  1.080054\n",
      "7     26  1.418895\n"
     ]
    }
   ],
   "source": [
    "import numpy as np\n",
    "import pandas as pd\n",
    "\n",
    "# Crear un conjunto de datos\n",
    "data = [10, 12, 13, 16, 18, 22, 24, 26]\n",
    "df = pd.DataFrame(data, columns=['value'])\n",
    "\n",
    "# Calcular el z-score de cada valor\n",
    "df['z_score'] = (df['value'] - df['value'].mean()) / df['value'].std()\n",
    "\n",
    "print(df)"
   ]
  },
  {
   "cell_type": "markdown",
   "metadata": {},
   "source": [
    "Este código calculará el z-score para cada valor en la columna value de df, mostrando qué tan lejos está cada valor de la media en términos de desviaciones estándar."
   ]
  },
  {
   "cell_type": "markdown",
   "metadata": {},
   "source": [
    "### 5. ¿Cuándo Usar el Z-Score?\n",
    "- **Detección de valores atípicos**: En análisis de datos, valores con un z-score > 3 o < -3 suelen considerarse outliers.\n",
    "- **Comparación entre datos diferentes**: Permite comparar valores de diferentes distribuciones.\n",
    "- **Estandarización**: Si deseas que tus datos tengan media 0 y desviación estándar 1 para ciertos algoritmos de machine learning, el z-score es una forma de escalar los datos."
   ]
  },
  {
   "cell_type": "markdown",
   "metadata": {},
   "source": [
    "## Caso de proyecto"
   ]
  },
  {
   "cell_type": "code",
   "execution_count": 1,
   "metadata": {},
   "outputs": [],
   "source": [
    "from scipy import stats\n",
    "import numpy as np\n",
    "import math\n",
    "\n",
    "def check_hypothesis(successes1, successes2, trials1, trials2, alpha=0.01):\n",
    "    # proportion of successes in the first group:\n",
    "    p1 = successes1/trials1\n",
    "\n",
    "    # proportion of successes in the second group:\n",
    "    p2 = successes2/trials2\n",
    "\n",
    "    # proportion of successes in the combined dataset:\n",
    "    p_combined = (successes1 + successes2) / (trials1 + trials2)\n",
    "\n",
    "    # the difference of proportions in datasets\n",
    "    difference = p1 - p2\n",
    "    \n",
    "    # calculating the statistic in standard deviations of standard normal distribution\n",
    "    z_value = difference / math.sqrt(p_combined * (1 - p_combined) * (1/trials1 + 1/trials2))\n",
    "\n",
    "    # setting standard normal distribution (mean= 0, standard deviation=1)\n",
    "    distr = stats.norm(0, 1) \n",
    "\n",
    "    # calculating the statistic in standard deviations of standard normal distribution\n",
    "    z_value = difference / math.sqrt(p_combined * (1 - p_combined) * (1/trials1 + 1/trials2))\n",
    "\n",
    "\n",
    "    p_value = (1 - distr.cdf(abs(z_value))) * 2\n",
    "\n",
    "    print('p-value: ', p_value)\n",
    "\n",
    "    if (p_value < alpha):\n",
    "        print(\"Rejecting the null hypothesis: there is a significant difference between the proportions\")\n",
    "    else:\n",
    "        print(\"Failed to reject the null hypothesis, there is no reason to consider the proportions different\")  "
   ]
  }
 ],
 "metadata": {
  "kernelspec": {
   "display_name": "QAGeneral",
   "language": "python",
   "name": "python3"
  },
  "language_info": {
   "codemirror_mode": {
    "name": "ipython",
    "version": 3
   },
   "file_extension": ".py",
   "mimetype": "text/x-python",
   "name": "python",
   "nbconvert_exporter": "python",
   "pygments_lexer": "ipython3",
   "version": "3.12.7"
  }
 },
 "nbformat": 4,
 "nbformat_minor": 2
}
